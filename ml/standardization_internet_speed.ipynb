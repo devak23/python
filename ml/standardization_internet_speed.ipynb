{
 "cells": [
  {
   "cell_type": "code",
   "execution_count": 36,
   "id": "6716101c-2b9c-4761-9491-c19a5c9fb00a",
   "metadata": {},
   "outputs": [],
   "source": [
    "import pandas as pd\n",
    "import seaborn as sns\n",
    "from sklearn.preprocessing import StandardScaler\n",
    "from sklearn import linear_model\n",
    "import numpy as np"
   ]
  },
  {
   "cell_type": "code",
   "execution_count": 37,
   "id": "8998ce70-4328-44b5-8384-f552a6db45e2",
   "metadata": {},
   "outputs": [],
   "source": [
    "# read csv\n",
    "internet_df = pd.read_csv(\"internet.csv\")\n",
    "\n",
    "# Save the dependent values in y and independent values in list X\n",
    "X = internet_df[['Hour','Users']]\n",
    "y = internet_df['Speed']\n",
    "\n",
    "std_scaler = StandardScaler()\n",
    "X_scaled = std_scaler.fit_transform(X)"
   ]
  },
  {
   "cell_type": "code",
   "execution_count": 38,
   "id": "293d14ba-c1ce-46fa-b88f-d7f905641cb4",
   "metadata": {},
   "outputs": [
    {
     "data": {
      "text/plain": [
       "<Axes: >"
      ]
     },
     "execution_count": 38,
     "metadata": {},
     "output_type": "execute_result"
    },
    {
     "data": {
      "image/png": "[encoded data removed]",
      "text/plain": [
       "<Figure size 640x480 with 1 Axes>"
      ]
     },
     "metadata": {},
     "output_type": "display_data"
    }
   ],
   "source": [
    "# for a multiple regression case the simple scatter plot is not useful as we have multiple variables. We therefore use seaborn\n",
    "sns.scatterplot(x=X_scaled[:,0], y=X_scaled[:,1], hue=internet_df['Speed'])\n"
   ]
  },
  {
   "cell_type": "code",
   "execution_count": 47,
   "id": "bce3768f-33e9-4df0-8176-096a6460ca4c",
   "metadata": {},
   "outputs": [
    {
     "name": "stdout",
     "output_type": "stream",
     "text": [
      "[[ 1.39232838 -0.18309865]]\n"
     ]
    },
    {
     "name": "stderr",
     "output_type": "stream",
     "text": [
      "/usr/lib/python3.11/site-packages/sklearn/base.py:465: UserWarning: X does not have valid feature names, but StandardScaler was fitted with feature names\n",
      "  warnings.warn(\n"
     ]
    }
   ],
   "source": [
    "# Create a linear regression model and fit the data\n",
    "model = linear_model.LinearRegression()\n",
    "model.fit(X_scaled, y)\n",
    "scaled_X_for_prediction = std_scaler.transform([[20, 750]])\n",
    "print (scaled_X_for_prediction)"
   ]
  },
  {
   "cell_type": "code",
   "execution_count": 40,
   "id": "4d926197-7c41-42be-a785-11ab81d416fe",
   "metadata": {},
   "outputs": [
    {
     "name": "stdout",
     "output_type": "stream",
     "text": [
      "[95.01460565]\n"
     ]
    }
   ],
   "source": [
    "predicted_speed = model.predict([scaled_X_for_prediction[0]])\n",
    "print (predicted_speed)"
   ]
  },
  {
   "cell_type": "code",
   "execution_count": 41,
   "id": "d31d2d4a-40cd-474e-aba8-21698427cd85",
   "metadata": {},
   "outputs": [
    {
     "name": "stdout",
     "output_type": "stream",
     "text": [
      "['fit_intercept', 'copy_X', 'n_jobs', 'positive', 'n_features_in_', 'coef_', 'rank_', 'singular_', 'intercept_', '__module__', '__annotations__', '__doc__', '_parameter_constraints', '__init__', 'fit', 'set_fit_request', 'set_score_request', '__abstractmethods__', '_abc_impl', '_more_tags', '__dict__', '__weakref__', '__new__', '__repr__', '__hash__', '__str__', '__getattribute__', '__setattr__', '__delattr__', '__lt__', '__le__', '__eq__', '__ne__', '__gt__', '__ge__', '__reduce_ex__', '__reduce__', '__getstate__', '__subclasshook__', '__init_subclass__', '__format__', '__sizeof__', '__dir__', '__class__', '_estimator_type', 'score', '_decision_function', 'predict', '_set_intercept', '_get_param_names', 'get_params', 'set_params', '__sklearn_clone__', '__setstate__', '_get_tags', '_check_n_features', '_check_feature_names', '_validate_data', '_validate_params', '_repr_html_', '_repr_html_inner', '_repr_mimebundle_', '_build_request_for_signature', '_get_default_requests', '_get_metadata_request', 'get_metadata_routing']\n"
     ]
    }
   ],
   "source": [
    "print(model.__dir__())"
   ]
  },
  {
   "cell_type": "code",
   "execution_count": 42,
   "id": "1283c91b-4274-4ade-8504-adf20e60a475",
   "metadata": {},
   "outputs": [
    {
     "name": "stdout",
     "output_type": "stream",
     "text": [
      "[ 9.1024141  -8.94730715]\n"
     ]
    }
   ],
   "source": [
    "print (model.coef_)"
   ]
  },
  {
   "cell_type": "code",
   "execution_count": 43,
   "id": "5d09bf93-312f-4eb9-aba5-366b4c84c12b",
   "metadata": {},
   "outputs": [
    {
     "name": "stdout",
     "output_type": "stream",
     "text": [
      "[-6441.49633421]\n"
     ]
    }
   ],
   "source": [
    "# There are 2 regression coefficients as you can see. The first one denotes that for an increase in hour, there will be an increase in the speed.\n",
    "# lets check it out\n",
    "predicted_speed_21 = model.predict([[21, 750]])\n",
    "print (predicted_speed_21)"
   ]
  },
  {
   "cell_type": "code",
   "execution_count": 44,
   "id": "ba999b06-5493-4794-adf8-7450cb34d4e4",
   "metadata": {},
   "outputs": [
    {
     "name": "stdout",
     "output_type": "stream",
     "text": [
      "[-6459.54605546]\n"
     ]
    }
   ],
   "source": [
    "# as you can see the speed increased from 92.1451 to 93.5798. At the same time the other coefficient is the \"User's coeffiecient\" which will decrease\n",
    "# by 0.05.\n",
    "predicted_speed_751_users = model.predict([[20,751]])\n",
    "print (predicted_speed_751_users)"
   ]
  },
  {
   "cell_type": "code",
   "execution_count": 45,
   "id": "0629383c-5e39-4269-9df9-d5dc65524e03",
   "metadata": {},
   "outputs": [],
   "source": [
    "# you can see the speed was 92.14512274 which has been decreased by 0.05909483 (92.14512274 - 0.05909483) resulting in the above answer: 92.08602792"
   ]
  }
 ],
 "metadata": {
  "kernelspec": {
   "display_name": "Python 3 (ipykernel)",
   "language": "python",
   "name": "python3"
  },
  "language_info": {
   "codemirror_mode": {
    "name": "ipython",
    "version": 3
   },
   "file_extension": ".py",
   "mimetype": "text/x-python",
   "name": "python",
   "nbconvert_exporter": "python",
   "pygments_lexer": "ipython3",
   "version": "3.11.6"
  },
  "widgets": {
   "application/vnd.jupyter.widget-state+json": {
    "state": {},
    "version_major": 2,
    "version_minor": 0
   }
  }
 },
 "nbformat": 4,
 "nbformat_minor": 5
}
